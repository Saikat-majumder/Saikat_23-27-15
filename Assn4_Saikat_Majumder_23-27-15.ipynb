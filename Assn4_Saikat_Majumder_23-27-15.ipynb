{
 "cells": [
  {
   "cell_type": "code",
   "execution_count": 7,
   "id": "cac79385",
   "metadata": {},
   "outputs": [],
   "source": [
    "import pandas as pd\n",
    "df = pd.read_csv(\"housingdata.csv\")"
   ]
  },
  {
   "cell_type": "code",
   "execution_count": 9,
   "id": "e938f5a1",
   "metadata": {},
   "outputs": [
    {
     "name": "stdout",
     "output_type": "stream",
     "text": [
      "           PID        STATE      PRICE NUM_BEDROOMS NUM_BATH   SQ_FT\n",
      "0  100001000.0           MP     321654            3        1  1000.0\n",
      "1  100002000.0  MAHARASHTRA      21325            3      1.5     NaN\n",
      "2  100003000.0           AP    2541654          NaN        1   850.0\n",
      "3  100004000.0           TN     321321            1      NaN   700.0\n",
      "4          NaN           TN  589465645            3        2  1600.0\n",
      "5  100006000.0           TN   65465466          NaN        1   800.0\n"
     ]
    }
   ],
   "source": [
    "print(df.head(6))"
   ]
  },
  {
   "cell_type": "code",
   "execution_count": 10,
   "id": "58a0df61",
   "metadata": {},
   "outputs": [
    {
     "name": "stdout",
     "output_type": "stream",
     "text": [
      "Index(['PID', 'STATE', 'PRICE', 'NUM_BEDROOMS', 'NUM_BATH', 'SQ_FT'], dtype='object')\n",
      "RangeIndex(start=0, stop=9, step=1)\n"
     ]
    }
   ],
   "source": [
    "print(df.columns)\n",
    "print(df.index)"
   ]
  },
  {
   "cell_type": "code",
   "execution_count": 11,
   "id": "a82ba60f",
   "metadata": {},
   "outputs": [
    {
     "name": "stdout",
     "output_type": "stream",
     "text": [
      "No of state:  9\n",
      "No of unique state:  6\n"
     ]
    }
   ],
   "source": [
    "x,y = df.shape\n",
    "print(\"No of state: \",x)\n",
    "c = df['STATE'].nunique()\n",
    "print(\"No of unique state: \",c)"
   ]
  },
  {
   "cell_type": "code",
   "execution_count": 12,
   "id": "c0c9a28d",
   "metadata": {},
   "outputs": [
    {
     "name": "stdout",
     "output_type": "stream",
     "text": [
      "     PID  STATE  PRICE  NUM_BEDROOMS  NUM_BATH  SQ_FT\n",
      "0  False  False  False         False     False  False\n",
      "1  False  False  False         False     False   True\n",
      "2  False  False  False          True     False  False\n",
      "3  False  False  False         False      True  False\n",
      "4   True  False  False         False     False  False\n",
      "5  False  False  False          True     False  False\n"
     ]
    }
   ],
   "source": [
    "null_boolean = df.isna()\n",
    "print(null_boolean.head(6))"
   ]
  },
  {
   "cell_type": "code",
   "execution_count": 13,
   "id": "a96c036b",
   "metadata": {},
   "outputs": [
    {
     "name": "stdout",
     "output_type": "stream",
     "text": [
      "8470.0\n"
     ]
    }
   ],
   "source": [
    "df = df.dropna(subset=[\"NUM_BEDROOMS\"])\n",
    "df['NUM_BATH'] = df['NUM_BATH'].fillna(method='ffill', axis=0, limit=1)\n",
    "m = df['SQ_FT'].dropna().mean()\n",
    "df['SQ_FT'].fillna(m,inplace = True)\n",
    "s = df['SQ_FT'].sum()\n",
    "print(s)"
   ]
  },
  {
   "cell_type": "code",
   "execution_count": 14,
   "id": "7ee36c93",
   "metadata": {},
   "outputs": [
    {
     "name": "stdout",
     "output_type": "stream",
     "text": [
      "           PID STATE      PRICE NUM_BEDROOMS NUM_BATH   SQ_FT  NUM_STORE\n",
      "3  100004000.0    TN     321321            1      1.5   700.0          1\n",
      "4          NaN    TN  589465645            3        2  1600.0          1\n"
     ]
    }
   ],
   "source": [
    "df['NUM_STORE'] = 1\n",
    "tn_df = df[df['STATE'] == \"TN\"]\n",
    "print(tn_df)"
   ]
  },
  {
   "cell_type": "code",
   "execution_count": 15,
   "id": "81324107",
   "metadata": {},
   "outputs": [
    {
     "name": "stdout",
     "output_type": "stream",
     "text": [
      "           PID        STATE      PRICE NUM_BEDROOMS NUM_BATH   SQ_FT  \\\n",
      "1  100002000.0  MAHARASHTRA      21325            3      1.5  1210.0   \n",
      "4          NaN           TN  589465645            3        2  1600.0   \n",
      "7  100008000.0           HP      23131            1        1  1210.0   \n",
      "8  100009000.0           HP      21212           na        2  1800.0   \n",
      "\n",
      "   NUM_STORE  \n",
      "1          1  \n",
      "4          1  \n",
      "7          1  \n",
      "8          1  \n"
     ]
    }
   ],
   "source": [
    "SQ_df = df[df['SQ_FT'] > 1000]\n",
    "print(SQ_df)"
   ]
  },
  {
   "cell_type": "code",
   "execution_count": 16,
   "id": "6c230292",
   "metadata": {},
   "outputs": [
    {
     "name": "stdout",
     "output_type": "stream",
     "text": [
      "           PID        STATE   PRICE\n",
      "0  100001000.0           MP  321654\n",
      "1  100002000.0  MAHARASHTRA   21325\n",
      "3  100004000.0           TN  321321\n"
     ]
    }
   ],
   "source": [
    "new_df = df.iloc[:3, :3]\n",
    "print(new_df)"
   ]
  },
  {
   "cell_type": "code",
   "execution_count": 17,
   "id": "64cf2ea4",
   "metadata": {},
   "outputs": [
    {
     "name": "stdout",
     "output_type": "stream",
     "text": [
      "The state with the highest average price per square foot is  TN .\n"
     ]
    }
   ],
   "source": [
    "df['Price_Per_Sq_Ft'] = df['PRICE'] / df['SQ_FT']\n",
    "state_avg = df.groupby('STATE')['Price_Per_Sq_Ft'].mean()\n",
    "\n",
    "state_high = state_avg.idxmax()\n",
    "\n",
    "print(\"The state with the highest average price per square foot is \",state_high,\".\")"
   ]
  },
  {
   "cell_type": "code",
   "execution_count": null,
   "id": "de6cfebd",
   "metadata": {},
   "outputs": [],
   "source": []
  }
 ],
 "metadata": {
  "kernelspec": {
   "display_name": "Python 3",
   "language": "python",
   "name": "python3"
  },
  "language_info": {
   "codemirror_mode": {
    "name": "ipython",
    "version": 3
   },
   "file_extension": ".py",
   "mimetype": "text/x-python",
   "name": "python",
   "nbconvert_exporter": "python",
   "pygments_lexer": "ipython3",
   "version": "3.8.8"
  }
 },
 "nbformat": 4,
 "nbformat_minor": 5
}
